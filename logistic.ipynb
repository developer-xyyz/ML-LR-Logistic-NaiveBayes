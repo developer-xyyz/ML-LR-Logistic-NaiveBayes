{
  "nbformat": 4,
  "nbformat_minor": 0,
  "metadata": {
    "colab": {
      "provenance": []
    },
    "kernelspec": {
      "name": "python3",
      "display_name": "Python 3"
    },
    "language_info": {
      "name": "python"
    }
  },
  "cells": [
    {
      "cell_type": "code",
      "source": [
        "# Importing libraries\n",
        "import numpy as np\n",
        "import pandas as pd\n",
        "from sklearn.model_selection import train_test_split\n",
        "import warnings\n",
        "warnings.filterwarnings( \"ignore\" )\n",
        "\n",
        "# to compare our model's accuracy with sklearn model\n",
        "from sklearn.linear_model import LogisticRegression\n",
        "# Logistic Regression\n",
        "class LogitRegression() :\n",
        "\tdef __init__( self, learning_rate, iterations ) :\t\t\n",
        "\t\tself.learning_rate = learning_rate\t\t\n",
        "\t\tself.iterations = iterations\n",
        "\t\t\n",
        "\t# Function for model training\t\n",
        "\tdef fit( self, X, Y ) :\t\t\n",
        "\t\t# no_of_training_examples, no_of_features\t\t\n",
        "\t\tself.m, self.n = X.shape\t\n",
        "\t\t#print(self.n)\t\n",
        "\t\t# weight initialization\t\t\n",
        "\t\tself.W = np.zeros( self.n )\t\t\n",
        "\t\tself.b = 0\t\t\n",
        "\t\tself.X = X\t\t\n",
        "\t\tself.Y = Y\n",
        "\t\t\n",
        "\t\t# gradient descent learning\n",
        "\t\t\t\t\n",
        "\t\tfor i in range( self.iterations ) :\t\t\t\n",
        "\t\t\tself.update_weights()\t\t\t\n",
        "\t\treturn self\n",
        "\t\n",
        "\t# Helper function to update weights in gradient descent\n",
        "\t\n",
        "\tdef update_weights( self ) :\t\n",
        "\t\t#A = h(x) which 1/1+e to the z which is wx+b\t\n",
        "\t\tA = 1 / ( 1 + np.exp( - ( self.X.dot( self.W ) + self.b ) ) )\n",
        "\t\t\n",
        "\t\t# calculate gradients\n",
        "\t\t#print(self.Y.shape)\n",
        "\t\t# h(x) - Y transpose \tpredicted - actual\t\n",
        "\t\ttmp = ( A - self.Y.T)\n",
        "\t\t#print(tmp)\t\t\n",
        "\t\ttmp = np.reshape( tmp, self.m )\t\t\n",
        "\t\t#print(tmp)\tdw = X*W / dimension of the dimension of X\n",
        "\t\tdW = np.dot( self.X.T, tmp ) / self.m\n",
        "\t\t#change in y intercept of the logstic \t\t\n",
        "\t\tdb = np.sum( tmp ) / self.m\n",
        "\t\t\n",
        "\t\t# update weights\t\n",
        "\t\tself.W = self.W - self.learning_rate * dW\t\n",
        "\t\tself.b = self.b - self.learning_rate * db\n",
        "\t\t\n",
        "\t\treturn self\n",
        "\t\n",
        "\t# Hypothetical function h( x )\n",
        "\t\n",
        "\tdef predict( self, X ) :\t\n",
        "\t\tZ = 1 / ( 1 + np.exp( - ( X.dot( self.W ) + self.b ) ) )\n",
        "\t\t#if statement Y is 1 if Z is greater 0.5\t\t\n",
        "\t\tY = np.where( Z > 0.5, 1, 0 )\t\t\n",
        "\t\treturn Y\n",
        "\n",
        "\n"
      ],
      "metadata": {
        "id": "WozxZyHxSYko"
      },
      "execution_count": 37,
      "outputs": []
    },
    {
      "cell_type": "code",
      "source": [
        "def plot_data(x, y):\n",
        "  plt.xlabel('age')\n",
        "  plt.ylabel('thalach')\n",
        "\n",
        "  plt.plot(x, y, 'bo')\n",
        "  plt.show() \n",
        "\n",
        "def linearRegFun(x, w):\n",
        "  return np.matmul(x, w)\n",
        "\n",
        "def cost_function(x, y, w):\n",
        "  return ((linearRegFun(x, w)- y).T@(linearRegFun(x, w)- y)/ 2*y.shape[0])\n",
        "\n",
        "def gradient_descent(x, y, w, learning_rate = 0.1, num_epochs = 10):\n",
        "  m = x.shape[0]\n",
        "\n",
        "  J_all = []\n",
        "\n",
        "  for i in range(num_epochs):\n",
        "    h_x = linearRegFun(x, w)\n",
        "\n",
        "    cost = (1/m)*(x.T@(h_x - y))\n",
        "\n",
        "    w = w - (learning_rate)*cost\n",
        "\n",
        "    J_all.append(cost_function(x, y, w))\n",
        "  \n",
        "  return w, J_all\n",
        "\n",
        "df = pd.read_csv('ModifiedHeartDisease.csv')\n",
        "\n",
        "\n",
        "plot_data(df['age'].values,df['thalach'].values)\n",
        "\n",
        "X = df[['age', 'cp', 'thalach']].values\n",
        "y = df['target'].values\n",
        "\n",
        "\n",
        "X_train, X_test, y_train, y_test = train_test_split(X, y, test_size=0.2, random_state=42)\n",
        "\n",
        "\n",
        "model = LogitRegression(learning_rate = 0.01, iterations = 1000)\n",
        "\n",
        "\n",
        "model.fit(X_train, y_train)\n",
        "\n",
        "\n",
        "y_pred = model.predict(X_test)\n",
        "\n",
        "\n",
        "accuracy = np.mean(y_pred == y_test)\n",
        "print(\"Accuracy:\", accuracy)\n",
        "\n",
        "\n",
        "y = np.reshape(y, (195, 1))\n",
        "\n",
        "features = np.hstack((np.ones((X.shape[0],1)),X))\n",
        "\n",
        "w_s = np.zeros((features.shape[1],1))\n",
        "\n",
        "learning_rate = 0.1\n",
        "\n",
        "num_epochs =50\n",
        "\n",
        "w_s, J_all = gradient_descent(features, y, w_s, learning_rate, num_epochs)\n",
        "print(\"Parameters (w's): \", w_s)\n"
      ],
      "metadata": {
        "colab": {
          "base_uri": "https://localhost:8080/",
          "height": 366
        },
        "id": "r5n1S1OxwrnY",
        "outputId": "311deb25-8b3d-485f-cee6-16f7cf39199b"
      },
      "execution_count": 38,
      "outputs": [
        {
          "output_type": "display_data",
          "data": {
            "text/plain": [
              "<Figure size 432x288 with 1 Axes>"
            ],
            "image/png": "[encoded data removed]"
          },
          "metadata": {
            "needs_background": "light"
          }
        },
        {
          "output_type": "stream",
          "name": "stdout",
          "text": [
            "Accuracy: 0.5384615384615384\n",
            "Parameters (w's):  [[-1.76496874e+167]\n",
            " [-9.74020394e+168]\n",
            " [-2.64739230e+167]\n",
            " [-2.78180321e+169]]\n"
          ]
        }
      ]
    }
  ]
}