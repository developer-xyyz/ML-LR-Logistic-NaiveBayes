{
  "nbformat": 4,
  "nbformat_minor": 0,
  "metadata": {
    "colab": {
      "provenance": []
    },
    "kernelspec": {
      "name": "python3",
      "display_name": "Python 3"
    },
    "language_info": {
      "name": "python"
    }
  },
  "cells": [
    {
      "cell_type": "code",
      "execution_count": 38,
      "metadata": {
        "id": "A9r2WnMBPQgy"
      },
      "outputs": [],
      "source": [
        "import numpy as np\n",
        "import matplotlib.pyplot as plt\n",
        "import pandas as pd\n",
        "from sklearn.preprocessing import OneHotEncoder, LabelEncoder\n",
        "from sklearn.compose import ColumnTransformer\n",
        "\n",
        "\n",
        "mu = []\n",
        "std = []\n",
        "\n",
        "def plot_data(x, y):\n",
        "  plt.scatter(x,y)\n",
        "\n",
        "  plt.xlabel('Complaint Type')\n",
        "  plt.ylabel('Time to Resolve (minutes)')\n",
        "  plt.show()\n",
        "\n",
        "def normalize(data):\n",
        "  for i in range(0, data.shape[1]-1):\n",
        "    mu.append(np.mean(data[:, i]))\n",
        "    std.append(np.std(data[:, i]))\n",
        "    data[:, i] = ((data[:, i] - np.mean(data[:,i]))/ np.std(data[:,i]))\n",
        "\n",
        "\n",
        "def linearRegFun(x, w):\n",
        "  return np.matmul(x, w)\n",
        "\n",
        "def cost_function(x, y, w):\n",
        "  return ((linearRegFun(x, w)- y).T@(linearRegFun(x, w)- y)/ 2*y.shape[0])\n",
        "\n",
        "def gradient_descent(x, y, w, learning_rate = 0.1, num_epochs = 10):\n",
        "  m = x.shape[0]\n",
        "\n",
        "  J_all = []\n",
        "\n",
        "  for i in range(num_epochs):\n",
        "    h_x = linearRegFun(x, w)\n",
        "\n",
        "    cost = (1/m)*(x.T@(h_x - y))\n",
        "\n",
        "    w = w - (learning_rate)*cost\n",
        "\n",
        "    J_all.append(cost_function(x, y, w))\n",
        "  \n",
        "  return w, J_all\n",
        "\n",
        "def plot_cost(J_all, num_epochs):\n",
        "  plt.xlabel('Epochs')\n",
        "  plt.ylabel('Cost')\n",
        "  plt.plot(num_epochs, J_all, 'm', linewidth ='5')\n",
        "  plt.show()\n",
        "\n"
      ]
    },
    {
      "cell_type": "code",
      "source": [
        "df = pd.read_csv('CustomerService.csv')\n",
        "\n",
        "plot_data(df['Complaint_Type'], df['Time_to_Resolve'])\n",
        "\n",
        "df.columns = [\"Customer_ID\",\"Complaint_type\",\"Complaint_Details\",\"Time_to_Resolve\"]\n",
        "\n",
        "X = df[['Complaint_type']] \n",
        "y = df['Time_to_Resolve'].values\n",
        "\n",
        "categorical_features = [\"Complaint_type\"]\n",
        "one_hot = OneHotEncoder()\n",
        "transformer = ColumnTransformer([(\"one_hot\",\n",
        "                                  one_hot,\n",
        "                                  categorical_features)],\n",
        "                                  remainder=\"passthrough\")\n",
        "\n",
        "transformed_X = transformer.fit_transform(X)\n",
        "y = np.reshape(y, (124, 1))\n",
        "\n",
        "features = np.hstack((np.ones((transformed_X.shape[0],1)),transformed_X))\n",
        "\n",
        "w_s = np.zeros((features.shape[1],1))\n",
        "\n",
        "learning_rate = 0.1\n",
        "\n",
        "num_epochs =50\n",
        "\n",
        "w_s, J_all = gradient_descent(features, y, w_s, learning_rate, num_epochs)\n",
        "\n",
        "#J = cost_function(features, y, w_s)\n",
        "\n",
        "#print(\"Cost: \", J)\n",
        "print(\"Parameters (w's): \", w_s)\n",
        "\n",
        "#test(w_s, [124, 1])\n",
        "\n"
      ],
      "metadata": {
        "colab": {
          "base_uri": "https://localhost:8080/",
          "height": 348
        },
        "id": "t6Vf8KUFfBso",
        "outputId": "5c07f6cf-16c8-4e2c-c4e4-3b8c697878bf"
      },
      "execution_count": 43,
      "outputs": [
        {
          "output_type": "display_data",
          "data": {
            "text/plain": [
              "<Figure size 432x288 with 1 Axes>"
            ],
            "image/png": "[encoded data removed]"
          },
          "metadata": {
            "needs_background": "light"
          }
        },
        {
          "output_type": "stream",
          "name": "stdout",
          "text": [
            "Parameters (w's):  [[27.83984583]\n",
            " [ 7.030889  ]\n",
            " [23.90328364]\n",
            " [-3.09432681]]\n"
          ]
        }
      ]
    }
  ]
}