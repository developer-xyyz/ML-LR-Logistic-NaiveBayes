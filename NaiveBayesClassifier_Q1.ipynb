{
  "nbformat": 4,
  "nbformat_minor": 0,
  "metadata": {
    "colab": {
      "provenance": []
    },
    "kernelspec": {
      "name": "python3",
      "display_name": "Python 3"
    },
    "language_info": {
      "name": "python"
    }
  },
  "cells": [
    {
      "cell_type": "code",
      "execution_count": 1,
      "metadata": {
        "colab": {
          "base_uri": "https://localhost:8080/",
          "height": 35
        },
        "id": "2xga_CQmywgP",
        "outputId": "42b5f7a9-d8d3-4acd-d20d-2a4c2fa33b2c"
      },
      "outputs": [
        {
          "output_type": "execute_result",
          "data": {
            "text/plain": [
              "'\\nsdgksjgbsd\\n'"
            ],
            "application/vnd.google.colaboratory.intrinsic+json": {
              "type": "string"
            }
          },
          "metadata": {},
          "execution_count": 1
        }
      ],
      "source": [
        "import numpy as np\n",
        "import pandas as pd\n",
        "import scipy.stats as stats\n",
        "import matplotlib.pyplot as plt\n",
        "import seaborn as sns\n",
        "\n",
        "from sklearn.model_selection import train_test_split\n",
        "\n",
        "sns.set(style = \"whitegrid\")\n",
        "\n",
        "'''\n",
        "sdgksjgbsd\n",
        "'''"
      ]
    },
    {
      "cell_type": "code",
      "source": [
        "class NaiveBayesClassifier():\n",
        "  '''\n",
        "  Bayes Theorem form\n",
        "  P(y|X) = P(X|y)*P(y)/P(X)\n",
        "\n",
        "  '''\n",
        "  def calc_prior(self, features, target):\n",
        "    '''\n",
        "    prior probability P(y)\n",
        "    '''\n",
        "    self.prior = (features.groupby(target).apply(lambda x: len(x))/self.rows).to_numpy()\n",
        "    return self.prior\n",
        "  \n",
        "\n",
        "  def calc_stats(self, features, target):\n",
        "    '''\n",
        "    calc mean, variance  for each column\n",
        "    '''\n",
        "    self.mean = features.groupby(target).apply(np.mean).to_numpy()\n",
        "    self.var = features.groupby(target).apply(np.var).to_numpy()\n",
        "    return self.mean, self.var\n",
        "\n",
        "  def gaussian_den(self, class_idx, x):\n",
        "\n",
        "\n",
        "    # calculate the prob from the gaussian density function (normal dis)\n",
        "\n",
        "    mean = self.mean[class_idx]\n",
        "    var = self.var[class_idx]\n",
        "    numerator = np.exp((-1/2)*((x-mean)**2)/(2*var))\n",
        "    den = np.sqrt(2* np.pi *var)\n",
        "    prob = numerator/den\n",
        "    return prob\n",
        "\n",
        "\n",
        "  def calc_posterior(self, x):\n",
        "\n",
        "    #calculate the posterior prob for each class\n",
        "    posterior = []\n",
        "    for i in range(self.count):\n",
        "      prior = np.log(self.prior[i]) # numerically stable by utilizing the log function\n",
        "\n",
        "      conditional = np.sum(np.log(self.gaussian_den(i, x)))\n",
        "\n",
        "      post = prior + conditional\n",
        "      posterior.append(post)\n",
        "    \n",
        "    return self.class_target[np.argmax(posterior)]\n",
        "\n",
        "\n",
        "  def fit(self, features, target):\n",
        "\n",
        "    self.class_target = np.unique(target)\n",
        "\n",
        "    self.count = len(self.class_target)\n",
        "\n",
        "    self.feature_num = features.shape[0]\n",
        "\n",
        "    self.rows = features.shape[0]\n",
        "\n",
        "    self.calc_stats(features, target)\n",
        "    self.calc_prior(features, target)\n",
        "\n",
        "\n",
        "  def predict(self, features):\n",
        "    predictions = [self.calc_posterior(f) for f in features.to_numpy()]\n",
        "    return predictions\n",
        "  \n",
        "  def accuracy(self, y_test, y_pred):\n",
        "    accuracy = np.sum(y_test == y_pred)/len(y_test)\n",
        "    return accuracy \n",
        "\n",
        "  \n",
        "\n",
        "  "
      ],
      "metadata": {
        "id": "f403FP6E1aQ8"
      },
      "execution_count": 2,
      "outputs": []
    },
    {
      "cell_type": "code",
      "source": [
        "reviews = []\n",
        "sentiment = []\n",
        "with open('customerReviews.txt', 'r') as file:\n",
        "    for line in file:\n",
        "        review, label = line.rsplit(',', 1)\n",
        "        reviews.append(review)\n",
        "        sentiment.append(label.strip())\n",
        "\n",
        "#print(reviews)\n",
        "#print(sentiment)\n",
        "reviews = np.array(reviews)\n",
        "sentiment = np.array(sentiment)\n",
        "\n",
        "X_train, X_test, y_train, y_test = train_test_split(reviews, sentiment, test_size = 0.2, random_state = 123)\n",
        "print(X_train.shape, y_train.shape)\n",
        "\n",
        "X_train_df = pd.DataFrame(X_train, columns=['Review'])\n",
        "y_train_df = pd.DataFrame(y_train, columns=['Sentiment'])\n",
        "X_test_df = pd.DataFrame(X_test, columns=['Review'])\n",
        "y_test_df = pd.DataFrame(y_test, columns=['Sentiment'])\n",
        "NB = NaiveBayesClassifier()\n",
        "\n",
        "NB.fit(X_train_df, y_train_df['Sentiment'])  # pass the target column only\n",
        "\n",
        "predictions = NB.predict(X_test_df)\n",
        "accuracy = NB.accuracy(y_test_df['Sentiment'], predictions)\n",
        "\n",
        "print(f'Accuracy: {accuracy:.4f}')"
      ],
      "metadata": {
        "colab": {
          "base_uri": "https://localhost:8080/"
        },
        "id": "4mQxZsORb5Ev",
        "outputId": "7ae9254d-d435-4981-91dd-325e703ed239"
      },
      "execution_count": 3,
      "outputs": [
        {
          "output_type": "stream",
          "name": "stdout",
          "text": [
            "(112,) (112,)\n",
            "Accuracy: 0.5172\n"
          ]
        },
        {
          "output_type": "stream",
          "name": "stderr",
          "text": [
            "/usr/local/lib/python3.8/dist-packages/numpy/core/fromnumeric.py:3472: FutureWarning: Dropping of nuisance columns in DataFrame reductions (with 'numeric_only=None') is deprecated; in a future version this will raise TypeError.  Select only valid columns before calling the reduction.\n",
            "  return mean(axis=axis, dtype=dtype, out=out, **kwargs)\n",
            "/usr/local/lib/python3.8/dist-packages/numpy/core/fromnumeric.py:3755: FutureWarning: Dropping of nuisance columns in DataFrame reductions (with 'numeric_only=None') is deprecated; in a future version this will raise TypeError.  Select only valid columns before calling the reduction.\n",
            "  return var(axis=axis, dtype=dtype, out=out, ddof=ddof, **kwargs)\n"
          ]
        }
      ]
    },
    {
      "cell_type": "code",
      "source": [
        "new_data = pd.DataFrame({'review': ['I had a terrible experience with this company', \n",
        "                                    'This is a great company with excellent customer service', \n",
        "                                    'I was really disappointed with this product', \n",
        "                                    'The service is too expensive for what it offers',]})\n",
        "\n",
        "predictions = NB.predict(new_data)\n",
        "\n",
        "i = 0\n",
        "for reviews in new_data['review']:\n",
        "\n",
        "  print(new_data['review'][i] + \". Prediction: \" + predictions[i])\n",
        "  i = i +1"
      ],
      "metadata": {
        "colab": {
          "base_uri": "https://localhost:8080/"
        },
        "id": "l70lnKVpiFCW",
        "outputId": "3024a5a0-e03a-4e82-ffae-f4d45adbb01f"
      },
      "execution_count": 4,
      "outputs": [
        {
          "output_type": "stream",
          "name": "stdout",
          "text": [
            "I had a terrible experience with this company. Prediction: negative\n",
            "This is a great company with excellent customer service. Prediction: negative\n",
            "I was really disappointed with this product. Prediction: negative\n",
            "The service is too expensive for what it offers. Prediction: negative\n"
          ]
        }
      ]
    }
  ]
}